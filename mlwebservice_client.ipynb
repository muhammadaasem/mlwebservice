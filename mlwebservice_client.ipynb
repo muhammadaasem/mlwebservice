{
 "cells": [
  {
   "cell_type": "markdown",
   "metadata": {},
   "source": [
    "# Calling: Calling the ML Service (demo)"
   ]
  },
  {
   "cell_type": "code",
   "execution_count": 2,
   "metadata": {},
   "outputs": [],
   "source": [
    "# Nagative\n",
    "dataJSON = {\n",
    "    'age' : 45.0,\n",
    "    'job' : 'entrepreneur', \n",
    "    'marital' : 'married', \n",
    "    'education' : 'university.degree', \n",
    "    'default' : 'unknown', \n",
    "    'balance' : 'yes', \n",
    "    'housing' : 'yes', \n",
    "    'contact' : 'cellular', \n",
    "    'month' : 'aug',\n",
    "    'day_of_week' : 'mon',\n",
    "    'duration' :  38.0, \n",
    "    'campaign' : 2.0, \n",
    "    'pdays' : 0,\n",
    "    'anyvalue' : 0.0, \n",
    "    'previous' : 'nonexistent', \n",
    "    'poutcome' : 1.4, \n",
    "    'emp.var.rate' : 93.444, \n",
    "    'cons.price.idx' : -36.1, \n",
    "    'cons.conf.idx' : 4.965, \n",
    "    'euribor3m' :5228.1\n",
    "}"
   ]
  },
  {
   "cell_type": "code",
   "execution_count": 3,
   "metadata": {},
   "outputs": [],
   "source": [
    "# Positive\n",
    "dataJSON = {\n",
    "    'age' : 50.0,\n",
    "    'job' : 'blue-collar', \n",
    "    'marital' : 'married', \n",
    "    'education' : 'basic.4y', \n",
    "    'default' : 'no', \n",
    "    'balance' : 'no', \n",
    "    'housing' : 'yes', \n",
    "    'contact' : 'cellular', \n",
    "    'month' : 'jul',\n",
    "    'day_of_week' : 'tue',\n",
    "    'duration' :  849.0, \n",
    "    'campaign' : 1.0, \n",
    "    'pdays' : 0,\n",
    "    'anyvalue' : 0.0,\n",
    "    'previous' : 'nonexistent', \n",
    "    'poutcome' : 1.4, \n",
    "    'emp.var.rate' : 93.918, \n",
    "    'cons.price.idx' : -42.7, \n",
    "    'cons.conf.idx' : 4.961, \n",
    "    'euribor3m' :5228.1\n",
    "}"
   ]
  },
  {
   "cell_type": "code",
   "execution_count": 4,
   "metadata": {},
   "outputs": [
    {
     "name": "stdout",
     "output_type": "stream",
     "text": [
      "{\"concluded\": \"Positive\", \"details\": [{\"model\": \"Artificial Neural Network\", \"outcome\": \"1\", \"probability\": \"[0.433643 0.566357]\"}, {\"model\": \"Logistic Regression\", \"outcome\": \"0\", \"probability\": \"[0.559669 0.440331]\"}, {\"model\": \"Gradient Boosting\", \"outcome\": \"1\", \"probability\": \"[0.357833 0.642167]\"}]}\n"
     ]
    }
   ],
   "source": [
    "import requests\n",
    "import json\n",
    "res = requests.post('http://localhost:9000/predict', json=dataJSON)\n",
    "if res.ok:\n",
    "    print(res.json())\n",
    "    #print(json.dumps(res.json(), indent=4, sort_keys=True))\n"
   ]
  },
  {
   "cell_type": "code",
   "execution_count": null,
   "metadata": {},
   "outputs": [],
   "source": []
  }
 ],
 "metadata": {
  "kernelspec": {
   "display_name": "Python 3",
   "language": "python",
   "name": "python3"
  },
  "language_info": {
   "codemirror_mode": {
    "name": "ipython",
    "version": 3
   },
   "file_extension": ".py",
   "mimetype": "text/x-python",
   "name": "python",
   "nbconvert_exporter": "python",
   "pygments_lexer": "ipython3",
   "version": "3.8.3"
  }
 },
 "nbformat": 4,
 "nbformat_minor": 4
}
