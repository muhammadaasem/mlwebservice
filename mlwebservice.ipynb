{
 "cells": [
  {
   "cell_type": "markdown",
   "metadata": {},
   "source": [
    "# ML-Webservice: Exposing webservice"
   ]
  },
  {
   "cell_type": "markdown",
   "metadata": {},
   "source": [
    "## Libraries"
   ]
  },
  {
   "cell_type": "code",
   "execution_count": 1,
   "metadata": {},
   "outputs": [
    {
     "name": "stdout",
     "output_type": "stream",
     "text": [
      "Python:3.8.3\n",
      "Orange:3.26.0\n"
     ]
    }
   ],
   "source": [
    "import warnings\n",
    "warnings.filterwarnings('ignore')\n",
    "from werkzeug.wrappers import Request, Response\n",
    "from flask import Flask, jsonify\n",
    "import json\n",
    "import pickle\n",
    "import Orange\n",
    "import platform\n",
    "print(\"Python:\" + platform.python_version())\n",
    "print(\"Orange:\" + Orange.version.version)"
   ]
  },
  {
   "cell_type": "markdown",
   "metadata": {},
   "source": [
    "## Load Models"
   ]
  },
  {
   "cell_type": "code",
   "execution_count": 2,
   "metadata": {},
   "outputs": [
    {
     "name": "stdout",
     "output_type": "stream",
     "text": [
      "Loading file: model/model-ann.pkcls\n",
      "Loading file: model/model-lr.pkcls\n",
      "Loading file: model/model-gb.pkcls\n"
     ]
    }
   ],
   "source": [
    "models=[]\n",
    "#Load model\n",
    "saved_model=[\"model/neural-network.pkcls\",\"model/logistic-regression.pkcls\",\"model/gradient-boosting.pkcls\"]\n",
    "saved_model=[\"model/model-ann.pkcls\",\"model/model-lr.pkcls\",\"model/model-gb.pkcls\"]\n",
    "for fileName in saved_model:\n",
    "    print ('Loading file:',fileName)\n",
    "    with open(fileName, \"rb\") as f:\n",
    "        models.append(pickle.load(f))"
   ]
  },
  {
   "cell_type": "markdown",
   "metadata": {},
   "source": [
    "## json_flat_array"
   ]
  },
  {
   "cell_type": "code",
   "execution_count": 3,
   "metadata": {},
   "outputs": [],
   "source": [
    "def json_flat_array(y):\n",
    "    arr=[]\n",
    "    def flatten(x, name=''):\n",
    "        if type(x) is dict:\n",
    "            for a in x:\n",
    "                arr.append(x[a])            \n",
    "    flatten(y)\n",
    "    return arr\n",
    "\n",
    "#json_flat_array (dataJSON)"
   ]
  },
  {
   "cell_type": "markdown",
   "metadata": {},
   "source": [
    "## PredictionByVoting"
   ]
  },
  {
   "cell_type": "code",
   "execution_count": 4,
   "metadata": {},
   "outputs": [],
   "source": [
    "def predictByVoting(input_for_prediction):\n",
    "    votes=[]\n",
    "    jsonObj = []\n",
    "    \n",
    "    data_predict= (json_flat_array (input_for_prediction)) # input_for_prediction \n",
    "    for mdl in models:\n",
    "        pred_ind = int(mdl(data_predict))\n",
    "        prob = mdl(data_predict, mdl.Probs).round(6) \n",
    "        votes.append(pred_ind)\n",
    "        #print (\"model:\"+mdl.name+\",\", \"outcome:\"+str(pred_ind)+\", \",\"probability:\"+str(prob))\n",
    "        js= { \"model\" : mdl.name , \"outcome\" : str(pred_ind), \"probability\" :str(prob) }\n",
    "        jsonObj.append(js)\n",
    " \n",
    "    #print(\"votes:\"+ str(votes))\n",
    "\n",
    "    y=0;n=0;\n",
    "    for c in votes:\n",
    "        if (c==1):\n",
    "            y=y+1\n",
    "        else:\n",
    "            n=n+1\n",
    "\n",
    "    \n",
    "    #print (\"\\nBased on maximum votes, the final outcome is:\")\n",
    "    if (y>n):\n",
    "        concludedOutcome=\"Positive\"\n",
    "    else:\n",
    "        concludedOutcome=\"Nagative\"\n",
    "    \n",
    "    responseObj={\"concluded\" : concludedOutcome}\n",
    "    responseObj.update ({\"details\" : jsonObj})\n",
    "    \n",
    "    return concludedOutcome,json.dumps(responseObj)\n",
    "        "
   ]
  },
  {
   "cell_type": "markdown",
   "metadata": {},
   "source": [
    "## Unit Test"
   ]
  },
  {
   "cell_type": "code",
   "execution_count": 5,
   "metadata": {},
   "outputs": [],
   "source": [
    "# Nagative\n",
    "dataJSON = {\n",
    "    'age' : 45.0,\n",
    "    'job' : 'entrepreneur', \n",
    "    'marital' : 'married', \n",
    "    'education' : 'university.degree', \n",
    "    'default' : 'unknown', \n",
    "    'balance' : 'yes', \n",
    "    'housing' : 'yes', \n",
    "    'contact' : 'cellular', \n",
    "    'month' : 'aug',\n",
    "    'day_of_week' : 'mon',\n",
    "    'duration' :  38.0, \n",
    "    'campaign' : 2.0, \n",
    "    'pdays' : 0,\n",
    "    'anyvalue' : 0.0, \n",
    "    'previous' : 'nonexistent', \n",
    "    'poutcome' : 1.4, \n",
    "    'emp.var.rate' : 93.444, \n",
    "    'cons.price.idx' : -36.1, \n",
    "    'cons.conf.idx' : 4.965, \n",
    "    'euribor3m' :5228.1\n",
    "}"
   ]
  },
  {
   "cell_type": "code",
   "execution_count": 6,
   "metadata": {},
   "outputs": [],
   "source": [
    "# Positive\n",
    "dataJSON = {\n",
    "    'age' : 50.0,\n",
    "    'job' : 'blue-collar', \n",
    "    'marital' : 'married', \n",
    "    'education' : 'basic.4y', \n",
    "    'default' : 'no', \n",
    "    'balance' : 'no', \n",
    "    'housing' : 'yes', \n",
    "    'contact' : 'cellular', \n",
    "    'month' : 'jul',\n",
    "    'day_of_week' : 'tue',\n",
    "    'duration' :  849.0, \n",
    "    'campaign' : 1.0, \n",
    "    'pdays' : 0,\n",
    "    'anyvalue' : 0.0,\n",
    "    'previous' : 'nonexistent', \n",
    "    'poutcome' : 1.4, \n",
    "    'emp.var.rate' : 93.918, \n",
    "    'cons.price.idx' : -42.7, \n",
    "    'cons.conf.idx' : 4.961, \n",
    "    'euribor3m' :5228.1\n",
    "}"
   ]
  },
  {
   "cell_type": "code",
   "execution_count": 7,
   "metadata": {},
   "outputs": [
    {
     "name": "stdout",
     "output_type": "stream",
     "text": [
      "Positive\n",
      "{\"concluded\": \"Positive\", \"details\": [{\"model\": \"Artificial Neural Network\", \"outcome\": \"1\", \"probability\": \"[0.433643 0.566357]\"}, {\"model\": \"Logistic Regression\", \"outcome\": \"0\", \"probability\": \"[0.559669 0.440331]\"}, {\"model\": \"Gradient Boosting\", \"outcome\": \"1\", \"probability\": \"[0.357833 0.642167]\"}]}\n"
     ]
    }
   ],
   "source": [
    "# Predict any unknow instance\n",
    "concludedOutcome,jsonObj= predictByVoting(dataJSON)\n",
    "print(concludedOutcome)\n",
    "print (jsonObj)"
   ]
  },
  {
   "cell_type": "markdown",
   "metadata": {},
   "source": [
    "## Exposing as Service"
   ]
  },
  {
   "cell_type": "code",
   "execution_count": 8,
   "metadata": {},
   "outputs": [
    {
     "name": "stderr",
     "output_type": "stream",
     "text": [
      " * Running on http://localhost:9000/ (Press CTRL+C to quit)\n",
      "127.0.0.1 - - [16/Oct/2021 19:07:52] \"\u001b[37mPOST /predict HTTP/1.1\u001b[0m\" 200 -\n"
     ]
    },
    {
     "name": "stdout",
     "output_type": "stream",
     "text": [
      "input:\n",
      "{'age': 50.0, 'job': 'blue-collar', 'marital': 'married', 'education': 'basic.4y', 'default': 'no', 'balance': 'no', 'housing': 'yes', 'contact': 'cellular', 'month': 'jul', 'day_of_week': 'tue', 'duration': 849.0, 'campaign': 1.0, 'pdays': 0, 'anyvalue': 0.0, 'previous': 'nonexistent', 'poutcome': 1.4, 'emp.var.rate': 93.918, 'cons.price.idx': -42.7, 'cons.conf.idx': 4.961, 'euribor3m': 5228.1}\n",
      "output:\n",
      "Concluded outcome:Positive\n",
      "\n",
      "{\"concluded\": \"Positive\", \"details\": [{\"model\": \"Artificial Neural Network\", \"outcome\": \"1\", \"probability\": \"[0.433643 0.566357]\"}, {\"model\": \"Logistic Regression\", \"outcome\": \"0\", \"probability\": \"[0.559669 0.440331]\"}, {\"model\": \"Gradient Boosting\", \"outcome\": \"1\", \"probability\": \"[0.357833 0.642167]\"}]}\n"
     ]
    },
    {
     "name": "stderr",
     "output_type": "stream",
     "text": [
      "127.0.0.1 - - [16/Oct/2021 19:08:47] \"\u001b[37mPOST /predict HTTP/1.1\u001b[0m\" 200 -\n"
     ]
    },
    {
     "name": "stdout",
     "output_type": "stream",
     "text": [
      "input:\n",
      "{'age': 50.0, 'job': 'blue-collar', 'marital': 'married', 'education': 'basic.4y', 'default': 'no', 'balance': 'no', 'housing': 'yes', 'contact': 'cellular', 'month': 'jul', 'day_of_week': 'tue', 'duration': 849.0, 'campaign': 1.0, 'pdays': 0, 'anyvalue': 0.0, 'previous': 'nonexistent', 'poutcome': 1.4, 'emp.var.rate': 93.918, 'cons.price.idx': -42.7, 'cons.conf.idx': 4.961, 'euribor3m': 5228.1}\n",
      "output:\n",
      "Concluded outcome:Positive\n",
      "\n",
      "{\"concluded\": \"Positive\", \"details\": [{\"model\": \"Artificial Neural Network\", \"outcome\": \"1\", \"probability\": \"[0.433643 0.566357]\"}, {\"model\": \"Logistic Regression\", \"outcome\": \"0\", \"probability\": \"[0.559669 0.440331]\"}, {\"model\": \"Gradient Boosting\", \"outcome\": \"1\", \"probability\": \"[0.357833 0.642167]\"}]}\n"
     ]
    }
   ],
   "source": [
    "from flask import Flask, request, jsonify\n",
    "app = Flask(__name__)\n",
    "\n",
    "@app.route(\"/predict\", methods=['GET', 'POST'])\n",
    "def predict():\n",
    "    inputJSON = request.json\n",
    "    print(\"input:\")\n",
    "    print(inputJSON)\n",
    "    print(\"output:\")\n",
    "    finalOutcome,jsonObj= predictByVoting(inputJSON)\n",
    "    print (\"Concluded outcome:\"+finalOutcome+\"\\n\")\n",
    "    print(jsonObj)\n",
    "    \n",
    "    return jsonify(jsonObj)\n",
    "\n",
    "if __name__ == '__main__':\n",
    "    from werkzeug.serving import run_simple\n",
    "    run_simple('localhost', 9000, app)"
   ]
  },
  {
   "cell_type": "code",
   "execution_count": null,
   "metadata": {},
   "outputs": [],
   "source": []
  }
 ],
 "metadata": {
  "kernelspec": {
   "display_name": "Python 3",
   "language": "python",
   "name": "python3"
  },
  "language_info": {
   "codemirror_mode": {
    "name": "ipython",
    "version": 3
   },
   "file_extension": ".py",
   "mimetype": "text/x-python",
   "name": "python",
   "nbconvert_exporter": "python",
   "pygments_lexer": "ipython3",
   "version": "3.8.3"
  }
 },
 "nbformat": 4,
 "nbformat_minor": 4
}
